{
 "cells": [
  {
   "attachments": {},
   "cell_type": "markdown",
   "metadata": {},
   "source": [
    "# LSTM Based Sign Language Classifier\n",
    "\n",
    "<table class=\"tfo-notebook-buttons\" align=\"left\">\n",
    "  <td>\n",
    "    <a target=\"_blank\" href=\"https://sakshamprakash01.github.io/lstm-sign-language-classifier/LSTM_Based_Sign_Language_Classifier.html\"><img src=\"https://www.tensorflow.org/images/GitHub-Mark-32px.png\" />Go To Notebook</a>\n",
    "  </td>\n",
    "</table>"
   ]
  }
 ],
 "metadata": {
  "language_info": {
   "name": "python"
  },
  "orig_nbformat": 4
 },
 "nbformat": 4,
 "nbformat_minor": 2
}
